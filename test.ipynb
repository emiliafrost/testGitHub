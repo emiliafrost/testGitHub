{
 "cells": [
  {
   "cell_type": "code",
   "execution_count": 57,
   "metadata": {},
   "outputs": [
    {
     "name": "stdin",
     "output_type": "stream",
     "text": [
      "please input your username:  emy\n",
      "please input your password:  ·····\n"
     ]
    },
    {
     "name": "stdout",
     "output_type": "stream",
     "text": [
      "access denied, please try again!\n"
     ]
    }
   ],
   "source": [
    "#user input username and invisible password\n",
    "#if the username and password is correct\n",
    "#then the system output hello!\n",
    "\n",
    "#written by frostime\n",
    "\n",
    "#如果首行缩进错误，就会报错\n",
    "\n",
    "import getpass\n",
    "name = input (\"please input your username: \")\n",
    "psw = getpass.getpass(\"please input your password: \")\n",
    "\n",
    "#below is a switch-case function using a dictionary method\n",
    "def login(var):\n",
    "    return {\n",
    "    'emy': '1234',\n",
    "    'bob': '2345',\n",
    "    'cat': '3456'\n",
    "    }.get(var,'invalid username or password')\n",
    "\n",
    "rpsw=login(name) #right passwerd = rpsw\n",
    "if psw==rpsw:\n",
    "    print('hello! '+name)\n",
    "    flag=True\n",
    "else:\n",
    "    print('access denied, please try again!')\n",
    "    flag=False\n",
    "\n",
    "if flag==True:\n",
    "#show their department after they login successfully\n",
    "    def case(var):\n",
    "        return {\n",
    "            'emy': 'admin',\n",
    "            'bob': 'member',\n",
    "            'cat': 'newer',\n",
    "        }.get(var,'error')\n",
    "\n",
    "    dpt=case(name)\n",
    "    print('you are: '+dpt)\n"
   ]
  },
  {
   "cell_type": "code",
   "execution_count": null,
   "metadata": {},
   "outputs": [],
   "source": []
  }
 ],
 "metadata": {
  "kernelspec": {
   "display_name": "Python 3",
   "language": "python",
   "name": "python3"
  },
  "language_info": {
   "codemirror_mode": {
    "name": "ipython",
    "version": 3
   },
   "file_extension": ".py",
   "mimetype": "text/x-python",
   "name": "python",
   "nbconvert_exporter": "python",
   "pygments_lexer": "ipython3",
   "version": "3.7.0"
  }
 },
 "nbformat": 4,
 "nbformat_minor": 2
}
